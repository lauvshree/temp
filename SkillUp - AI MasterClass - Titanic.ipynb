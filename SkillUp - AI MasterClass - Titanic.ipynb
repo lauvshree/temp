{
  "nbformat": 4,
  "nbformat_minor": 0,
  "metadata": {
    "colab": {
      "name": "Titanic.ipynb",
      "provenance": [],
      "collapsed_sections": []
    },
    "kernelspec": {
      "name": "python3",
      "display_name": "Python 3"
    },
    "language_info": {
      "name": "python"
    }
  },
  "cells": [
    {
      "cell_type": "markdown",
      "metadata": {
        "id": "Asf110aTf47P"
      },
      "source": [
        "#JUPYTER NOTEBOOK \n",
        "Congratulations on opening your first Jupyter Notebook. You have stepped into the world of Data Science, Machine Learning and Artificial Intelligence. The Jupyter Notebook is a tool for interactively developing machine learning algorithms with the data you have. \n",
        "\n",
        "A `notebook` integrates code and instructions or comments. \n",
        "\n",
        "## Cell\n",
        "\n",
        "A notebook is made of many cells. Each cell can be a text cell or a code cell. Code cells can return no output or return an output in textform or returns output as embedded images and graphs. Text cells are rendered just as a HTML text.\n",
        "\n",
        "<img src=\"https://raw.githubusercontent.com/lauvshree/datasets/main/Screen%20Shot%202021-05-19%20at%2012.59.47%20pm.png\" width=\"75%\" style=\"border:1px solid grey\"/>\n",
        "\n",
        "To run a code cell, keep the cursor on the cell and press `shift` and `Enter` (`Return` in the case of Mac) together.\n",
        "\n",
        "Now that you have been introduced to Jupyter notebook let's get started.\n",
        "\n"
      ]
    },
    {
      "cell_type": "markdown",
      "metadata": {
        "id": "l6o8QCFq2L93"
      },
      "source": [
        "# Import all the packages required"
      ]
    },
    {
      "cell_type": "code",
      "metadata": {
        "id": "tedNSFzypbB5"
      },
      "source": [
        "import pandas as pd\n",
        "import numpy as np\n",
        "\n",
        "import matplotlib.pyplot as plt \n",
        "import seaborn as sns\n"
      ],
      "execution_count": 3,
      "outputs": []
    },
    {
      "cell_type": "markdown",
      "metadata": {
        "id": "aXNpQvle2aUR"
      },
      "source": [
        "#Read the dataset  from the remote URL"
      ]
    },
    {
      "cell_type": "code",
      "metadata": {
        "id": "a5SERxoFrjqm"
      },
      "source": [
        "titanic_df = pd.read_csv(\"https://gist.githubusercontent.com/lauvshree/17b55fb20ce1d11787b2e03281382dab/raw/5f7e228e4ff3201824a4e241e04ae076cb23ffec/titanic.csv\")"
      ],
      "execution_count": 36,
      "outputs": []
    },
    {
      "cell_type": "markdown",
      "metadata": {
        "id": "HtzmUjmN2hZv"
      },
      "source": [
        "#Check the data in the dataset"
      ]
    },
    {
      "cell_type": "code",
      "metadata": {
        "colab": {
          "base_uri": "https://localhost:8080/",
          "height": 414
        },
        "id": "bL7mdAnU1uio",
        "outputId": "c3648733-df7c-4f1e-b918-00f93aff6db6"
      },
      "source": [
        "titanic_df.head(5)"
      ],
      "execution_count": 38,
      "outputs": [
        {
          "output_type": "execute_result",
          "data": {
            "text/html": [
              "<div>\n",
              "<style scoped>\n",
              "    .dataframe tbody tr th:only-of-type {\n",
              "        vertical-align: middle;\n",
              "    }\n",
              "\n",
              "    .dataframe tbody tr th {\n",
              "        vertical-align: top;\n",
              "    }\n",
              "\n",
              "    .dataframe thead th {\n",
              "        text-align: right;\n",
              "    }\n",
              "</style>\n",
              "<table border=\"1\" class=\"dataframe\">\n",
              "  <thead>\n",
              "    <tr style=\"text-align: right;\">\n",
              "      <th></th>\n",
              "      <th>pclass</th>\n",
              "      <th>survived</th>\n",
              "      <th>name</th>\n",
              "      <th>sex</th>\n",
              "      <th>age</th>\n",
              "      <th>sibsp</th>\n",
              "      <th>parch</th>\n",
              "      <th>ticket</th>\n",
              "      <th>fare</th>\n",
              "      <th>cabin</th>\n",
              "      <th>embarked</th>\n",
              "      <th>boat</th>\n",
              "      <th>body</th>\n",
              "      <th>home.dest</th>\n",
              "    </tr>\n",
              "  </thead>\n",
              "  <tbody>\n",
              "    <tr>\n",
              "      <th>0</th>\n",
              "      <td>1</td>\n",
              "      <td>1</td>\n",
              "      <td>Allen, Miss. Elisabeth Walton</td>\n",
              "      <td>female</td>\n",
              "      <td>29.00</td>\n",
              "      <td>0</td>\n",
              "      <td>0</td>\n",
              "      <td>24160</td>\n",
              "      <td>211.3375</td>\n",
              "      <td>B5</td>\n",
              "      <td>S</td>\n",
              "      <td>2</td>\n",
              "      <td>NaN</td>\n",
              "      <td>St Louis, MO</td>\n",
              "    </tr>\n",
              "    <tr>\n",
              "      <th>1</th>\n",
              "      <td>1</td>\n",
              "      <td>1</td>\n",
              "      <td>Allison, Master. Hudson Trevor</td>\n",
              "      <td>male</td>\n",
              "      <td>0.92</td>\n",
              "      <td>1</td>\n",
              "      <td>2</td>\n",
              "      <td>113781</td>\n",
              "      <td>151.5500</td>\n",
              "      <td>C22 C26</td>\n",
              "      <td>S</td>\n",
              "      <td>11</td>\n",
              "      <td>NaN</td>\n",
              "      <td>Montreal, PQ / Chesterville, ON</td>\n",
              "    </tr>\n",
              "    <tr>\n",
              "      <th>2</th>\n",
              "      <td>1</td>\n",
              "      <td>0</td>\n",
              "      <td>Allison, Miss. Helen Loraine</td>\n",
              "      <td>female</td>\n",
              "      <td>2.00</td>\n",
              "      <td>1</td>\n",
              "      <td>2</td>\n",
              "      <td>113781</td>\n",
              "      <td>151.5500</td>\n",
              "      <td>C22 C26</td>\n",
              "      <td>S</td>\n",
              "      <td>NaN</td>\n",
              "      <td>NaN</td>\n",
              "      <td>Montreal, PQ / Chesterville, ON</td>\n",
              "    </tr>\n",
              "    <tr>\n",
              "      <th>3</th>\n",
              "      <td>1</td>\n",
              "      <td>0</td>\n",
              "      <td>Allison, Mr. Hudson Joshua Creighton</td>\n",
              "      <td>male</td>\n",
              "      <td>30.00</td>\n",
              "      <td>1</td>\n",
              "      <td>2</td>\n",
              "      <td>113781</td>\n",
              "      <td>151.5500</td>\n",
              "      <td>C22 C26</td>\n",
              "      <td>S</td>\n",
              "      <td>NaN</td>\n",
              "      <td>135.0</td>\n",
              "      <td>Montreal, PQ / Chesterville, ON</td>\n",
              "    </tr>\n",
              "    <tr>\n",
              "      <th>4</th>\n",
              "      <td>1</td>\n",
              "      <td>0</td>\n",
              "      <td>Allison, Mrs. Hudson J C (Bessie Waldo Daniels)</td>\n",
              "      <td>female</td>\n",
              "      <td>25.00</td>\n",
              "      <td>1</td>\n",
              "      <td>2</td>\n",
              "      <td>113781</td>\n",
              "      <td>151.5500</td>\n",
              "      <td>C22 C26</td>\n",
              "      <td>S</td>\n",
              "      <td>NaN</td>\n",
              "      <td>NaN</td>\n",
              "      <td>Montreal, PQ / Chesterville, ON</td>\n",
              "    </tr>\n",
              "  </tbody>\n",
              "</table>\n",
              "</div>"
            ],
            "text/plain": [
              "   pclass  survived  ...   body                        home.dest\n",
              "0       1         1  ...    NaN                     St Louis, MO\n",
              "1       1         1  ...    NaN  Montreal, PQ / Chesterville, ON\n",
              "2       1         0  ...    NaN  Montreal, PQ / Chesterville, ON\n",
              "3       1         0  ...  135.0  Montreal, PQ / Chesterville, ON\n",
              "4       1         0  ...    NaN  Montreal, PQ / Chesterville, ON\n",
              "\n",
              "[5 rows x 14 columns]"
            ]
          },
          "metadata": {
            "tags": []
          },
          "execution_count": 38
        }
      ]
    },
    {
      "cell_type": "markdown",
      "metadata": {
        "id": "PcXHPF8r2oxD"
      },
      "source": [
        "#Get some information about the type of data in the dataset"
      ]
    },
    {
      "cell_type": "code",
      "metadata": {
        "colab": {
          "base_uri": "https://localhost:8080/"
        },
        "id": "dHfPkqFFrooi",
        "outputId": "b973223f-a185-4e86-cef7-a6d1251bf8d5"
      },
      "source": [
        "titanic_df.info() "
      ],
      "execution_count": 6,
      "outputs": [
        {
          "output_type": "stream",
          "text": [
            "<class 'pandas.core.frame.DataFrame'>\n",
            "RangeIndex: 1309 entries, 0 to 1308\n",
            "Data columns (total 14 columns):\n",
            " #   Column     Non-Null Count  Dtype  \n",
            "---  ------     --------------  -----  \n",
            " 0   pclass     1309 non-null   int64  \n",
            " 1   survived   1309 non-null   int64  \n",
            " 2   name       1309 non-null   object \n",
            " 3   sex        1309 non-null   object \n",
            " 4   age        1046 non-null   float64\n",
            " 5   sibsp      1309 non-null   int64  \n",
            " 6   parch      1309 non-null   int64  \n",
            " 7   ticket     1309 non-null   object \n",
            " 8   fare       1308 non-null   float64\n",
            " 9   cabin      295 non-null    object \n",
            " 10  embarked   1307 non-null   object \n",
            " 11  boat       486 non-null    object \n",
            " 12  body       121 non-null    float64\n",
            " 13  home.dest  745 non-null    object \n",
            "dtypes: float64(3), int64(4), object(7)\n",
            "memory usage: 143.3+ KB\n"
          ],
          "name": "stdout"
        }
      ]
    },
    {
      "cell_type": "markdown",
      "metadata": {
        "id": "RR5UgOXM2wyC"
      },
      "source": [
        "#Check if the total amount missing data."
      ]
    },
    {
      "cell_type": "code",
      "metadata": {
        "colab": {
          "base_uri": "https://localhost:8080/"
        },
        "id": "8ZV7_RBjpHrd",
        "outputId": "e3a3d523-0ab5-4e36-ead1-3a5ffcd4f7ad"
      },
      "source": [
        "titanic_df.isnull().sum()"
      ],
      "execution_count": 7,
      "outputs": [
        {
          "output_type": "execute_result",
          "data": {
            "text/plain": [
              "pclass          0\n",
              "survived        0\n",
              "name            0\n",
              "sex             0\n",
              "age           263\n",
              "sibsp           0\n",
              "parch           0\n",
              "ticket          0\n",
              "fare            1\n",
              "cabin        1014\n",
              "embarked        2\n",
              "boat          823\n",
              "body         1188\n",
              "home.dest     564\n",
              "dtype: int64"
            ]
          },
          "metadata": {
            "tags": []
          },
          "execution_count": 7
        }
      ]
    },
    {
      "cell_type": "markdown",
      "metadata": {
        "id": "oajHaXsf3DKj"
      },
      "source": [
        "#Remove all the columns which will not influence the result"
      ]
    },
    {
      "cell_type": "code",
      "metadata": {
        "id": "DVlsUIT76Qtb"
      },
      "source": [
        "titanic_df.drop(['name'],  axis=1,inplace=True) \n",
        "titanic_df.drop(['cabin'],  axis=1,inplace=True) \n",
        "titanic_df.drop(['ticket'],  axis=1,inplace=True) \n",
        "titanic_df.drop(['home.dest'],  axis=1,inplace=True) \n",
        "titanic_df.drop(['boat'],  axis=1,inplace=True) \n",
        "titanic_df.drop(['body'],  axis=1,inplace=True) \n"
      ],
      "execution_count": 8,
      "outputs": []
    },
    {
      "cell_type": "markdown",
      "metadata": {
        "id": "4tmO7w0a3OQo"
      },
      "source": [
        "#Get dummy numbers to replace the Strings. "
      ]
    },
    {
      "cell_type": "code",
      "metadata": {
        "id": "hYu44BIm5mIO"
      },
      "source": [
        "titanic_df['sex'] = pd.get_dummies(titanic_df.sex)\n",
        "titanic_df['embarked'] = pd.get_dummies(titanic_df.embarked)"
      ],
      "execution_count": 9,
      "outputs": []
    },
    {
      "cell_type": "markdown",
      "metadata": {
        "id": "DK0f94L_3hBV"
      },
      "source": [
        "#Observe the encoded values."
      ]
    },
    {
      "cell_type": "code",
      "metadata": {
        "id": "OgSitsCeinEM",
        "colab": {
          "base_uri": "https://localhost:8080/",
          "height": 402
        },
        "outputId": "f8468bf2-c482-445a-ad46-78208e630212"
      },
      "source": [
        "titanic_df[['sex','embarked']]"
      ],
      "execution_count": 12,
      "outputs": [
        {
          "output_type": "execute_result",
          "data": {
            "text/html": [
              "<div>\n",
              "<style scoped>\n",
              "    .dataframe tbody tr th:only-of-type {\n",
              "        vertical-align: middle;\n",
              "    }\n",
              "\n",
              "    .dataframe tbody tr th {\n",
              "        vertical-align: top;\n",
              "    }\n",
              "\n",
              "    .dataframe thead th {\n",
              "        text-align: right;\n",
              "    }\n",
              "</style>\n",
              "<table border=\"1\" class=\"dataframe\">\n",
              "  <thead>\n",
              "    <tr style=\"text-align: right;\">\n",
              "      <th></th>\n",
              "      <th>sex</th>\n",
              "      <th>embarked</th>\n",
              "    </tr>\n",
              "  </thead>\n",
              "  <tbody>\n",
              "    <tr>\n",
              "      <th>0</th>\n",
              "      <td>1</td>\n",
              "      <td>0</td>\n",
              "    </tr>\n",
              "    <tr>\n",
              "      <th>1</th>\n",
              "      <td>0</td>\n",
              "      <td>0</td>\n",
              "    </tr>\n",
              "    <tr>\n",
              "      <th>2</th>\n",
              "      <td>1</td>\n",
              "      <td>0</td>\n",
              "    </tr>\n",
              "    <tr>\n",
              "      <th>3</th>\n",
              "      <td>0</td>\n",
              "      <td>0</td>\n",
              "    </tr>\n",
              "    <tr>\n",
              "      <th>4</th>\n",
              "      <td>1</td>\n",
              "      <td>0</td>\n",
              "    </tr>\n",
              "    <tr>\n",
              "      <th>...</th>\n",
              "      <td>...</td>\n",
              "      <td>...</td>\n",
              "    </tr>\n",
              "    <tr>\n",
              "      <th>1304</th>\n",
              "      <td>1</td>\n",
              "      <td>1</td>\n",
              "    </tr>\n",
              "    <tr>\n",
              "      <th>1305</th>\n",
              "      <td>1</td>\n",
              "      <td>1</td>\n",
              "    </tr>\n",
              "    <tr>\n",
              "      <th>1306</th>\n",
              "      <td>0</td>\n",
              "      <td>1</td>\n",
              "    </tr>\n",
              "    <tr>\n",
              "      <th>1307</th>\n",
              "      <td>0</td>\n",
              "      <td>1</td>\n",
              "    </tr>\n",
              "    <tr>\n",
              "      <th>1308</th>\n",
              "      <td>0</td>\n",
              "      <td>0</td>\n",
              "    </tr>\n",
              "  </tbody>\n",
              "</table>\n",
              "<p>1309 rows × 2 columns</p>\n",
              "</div>"
            ],
            "text/plain": [
              "      sex  embarked\n",
              "0       1         0\n",
              "1       0         0\n",
              "2       1         0\n",
              "3       0         0\n",
              "4       1         0\n",
              "...   ...       ...\n",
              "1304    1         1\n",
              "1305    1         1\n",
              "1306    0         1\n",
              "1307    0         1\n",
              "1308    0         0\n",
              "\n",
              "[1309 rows x 2 columns]"
            ]
          },
          "metadata": {
            "tags": []
          },
          "execution_count": 12
        }
      ]
    },
    {
      "cell_type": "markdown",
      "metadata": {
        "id": "aN5XLQET41qx"
      },
      "source": [
        "#Plot a graph to visually observe the number of people who survived across age groups"
      ]
    },
    {
      "cell_type": "code",
      "metadata": {
        "id": "R7o5mkJdr8dq",
        "colab": {
          "base_uri": "https://localhost:8080/",
          "height": 443
        },
        "outputId": "52b862d5-3ec8-4a38-b168-dd6d1a3b38c3"
      },
      "source": [
        "plt.figure(figsize=(16, 7))\n",
        "sns.histplot(data=titanic_df, x='age', hue='survived',multiple=\"dodge\")\n",
        "plt.show()"
      ],
      "execution_count": 13,
      "outputs": [
        {
          "output_type": "display_data",
          "data": {
            "image/png": "[encoded data removed]",
            "text/plain": [
              "<Figure size 1152x504 with 1 Axes>"
            ]
          },
          "metadata": {
            "tags": [],
            "needs_background": "light"
          }
        }
      ]
    },
    {
      "cell_type": "markdown",
      "metadata": {
        "id": "Wx1v3nwg5CPp"
      },
      "source": [
        "#Plot a graph to visually observe the number of people who survived based on gender"
      ]
    },
    {
      "cell_type": "code",
      "metadata": {
        "id": "vQx3KHfmsziP",
        "colab": {
          "base_uri": "https://localhost:8080/",
          "height": 279
        },
        "outputId": "3db182ee-272d-45cb-bbfe-03d7b485c0d1"
      },
      "source": [
        "sns.countplot(data=titanic_df, x='sex', hue='survived')\n",
        "\n",
        "plt.show()"
      ],
      "execution_count": 14,
      "outputs": [
        {
          "output_type": "display_data",
          "data": {
            "image/png": "[encoded data removed]",
            "text/plain": [
              "<Figure size 432x288 with 1 Axes>"
            ]
          },
          "metadata": {
            "tags": [],
            "needs_background": "light"
          }
        }
      ]
    },
    {
      "cell_type": "markdown",
      "metadata": {
        "id": "CsozUTOg5RZ7"
      },
      "source": [
        "#Fill the missing values with the median values of that column"
      ]
    },
    {
      "cell_type": "code",
      "metadata": {
        "id": "USSFzGq6rBB0"
      },
      "source": [
        "titanic_df.fillna(titanic_df.median(), inplace=True)"
      ],
      "execution_count": 15,
      "outputs": []
    },
    {
      "cell_type": "code",
      "metadata": {
        "id": "BBswjbwl5mSE",
        "colab": {
          "base_uri": "https://localhost:8080/",
          "height": 402
        },
        "outputId": "6542095f-d2fa-434a-8c08-7364ec31c0cd"
      },
      "source": [
        "titanic_df"
      ],
      "execution_count": 16,
      "outputs": [
        {
          "output_type": "execute_result",
          "data": {
            "text/html": [
              "<div>\n",
              "<style scoped>\n",
              "    .dataframe tbody tr th:only-of-type {\n",
              "        vertical-align: middle;\n",
              "    }\n",
              "\n",
              "    .dataframe tbody tr th {\n",
              "        vertical-align: top;\n",
              "    }\n",
              "\n",
              "    .dataframe thead th {\n",
              "        text-align: right;\n",
              "    }\n",
              "</style>\n",
              "<table border=\"1\" class=\"dataframe\">\n",
              "  <thead>\n",
              "    <tr style=\"text-align: right;\">\n",
              "      <th></th>\n",
              "      <th>pclass</th>\n",
              "      <th>survived</th>\n",
              "      <th>sex</th>\n",
              "      <th>age</th>\n",
              "      <th>sibsp</th>\n",
              "      <th>parch</th>\n",
              "      <th>fare</th>\n",
              "      <th>embarked</th>\n",
              "    </tr>\n",
              "  </thead>\n",
              "  <tbody>\n",
              "    <tr>\n",
              "      <th>0</th>\n",
              "      <td>1</td>\n",
              "      <td>1</td>\n",
              "      <td>1</td>\n",
              "      <td>29.00</td>\n",
              "      <td>0</td>\n",
              "      <td>0</td>\n",
              "      <td>211.3375</td>\n",
              "      <td>0</td>\n",
              "    </tr>\n",
              "    <tr>\n",
              "      <th>1</th>\n",
              "      <td>1</td>\n",
              "      <td>1</td>\n",
              "      <td>0</td>\n",
              "      <td>0.92</td>\n",
              "      <td>1</td>\n",
              "      <td>2</td>\n",
              "      <td>151.5500</td>\n",
              "      <td>0</td>\n",
              "    </tr>\n",
              "    <tr>\n",
              "      <th>2</th>\n",
              "      <td>1</td>\n",
              "      <td>0</td>\n",
              "      <td>1</td>\n",
              "      <td>2.00</td>\n",
              "      <td>1</td>\n",
              "      <td>2</td>\n",
              "      <td>151.5500</td>\n",
              "      <td>0</td>\n",
              "    </tr>\n",
              "    <tr>\n",
              "      <th>3</th>\n",
              "      <td>1</td>\n",
              "      <td>0</td>\n",
              "      <td>0</td>\n",
              "      <td>30.00</td>\n",
              "      <td>1</td>\n",
              "      <td>2</td>\n",
              "      <td>151.5500</td>\n",
              "      <td>0</td>\n",
              "    </tr>\n",
              "    <tr>\n",
              "      <th>4</th>\n",
              "      <td>1</td>\n",
              "      <td>0</td>\n",
              "      <td>1</td>\n",
              "      <td>25.00</td>\n",
              "      <td>1</td>\n",
              "      <td>2</td>\n",
              "      <td>151.5500</td>\n",
              "      <td>0</td>\n",
              "    </tr>\n",
              "    <tr>\n",
              "      <th>...</th>\n",
              "      <td>...</td>\n",
              "      <td>...</td>\n",
              "      <td>...</td>\n",
              "      <td>...</td>\n",
              "      <td>...</td>\n",
              "      <td>...</td>\n",
              "      <td>...</td>\n",
              "      <td>...</td>\n",
              "    </tr>\n",
              "    <tr>\n",
              "      <th>1304</th>\n",
              "      <td>3</td>\n",
              "      <td>0</td>\n",
              "      <td>1</td>\n",
              "      <td>14.50</td>\n",
              "      <td>1</td>\n",
              "      <td>0</td>\n",
              "      <td>14.4542</td>\n",
              "      <td>1</td>\n",
              "    </tr>\n",
              "    <tr>\n",
              "      <th>1305</th>\n",
              "      <td>3</td>\n",
              "      <td>0</td>\n",
              "      <td>1</td>\n",
              "      <td>28.00</td>\n",
              "      <td>1</td>\n",
              "      <td>0</td>\n",
              "      <td>14.4542</td>\n",
              "      <td>1</td>\n",
              "    </tr>\n",
              "    <tr>\n",
              "      <th>1306</th>\n",
              "      <td>3</td>\n",
              "      <td>0</td>\n",
              "      <td>0</td>\n",
              "      <td>26.50</td>\n",
              "      <td>0</td>\n",
              "      <td>0</td>\n",
              "      <td>7.2250</td>\n",
              "      <td>1</td>\n",
              "    </tr>\n",
              "    <tr>\n",
              "      <th>1307</th>\n",
              "      <td>3</td>\n",
              "      <td>0</td>\n",
              "      <td>0</td>\n",
              "      <td>27.00</td>\n",
              "      <td>0</td>\n",
              "      <td>0</td>\n",
              "      <td>7.2250</td>\n",
              "      <td>1</td>\n",
              "    </tr>\n",
              "    <tr>\n",
              "      <th>1308</th>\n",
              "      <td>3</td>\n",
              "      <td>0</td>\n",
              "      <td>0</td>\n",
              "      <td>29.00</td>\n",
              "      <td>0</td>\n",
              "      <td>0</td>\n",
              "      <td>7.8750</td>\n",
              "      <td>0</td>\n",
              "    </tr>\n",
              "  </tbody>\n",
              "</table>\n",
              "<p>1309 rows × 8 columns</p>\n",
              "</div>"
            ],
            "text/plain": [
              "      pclass  survived  sex    age  sibsp  parch      fare  embarked\n",
              "0          1         1    1  29.00      0      0  211.3375         0\n",
              "1          1         1    0   0.92      1      2  151.5500         0\n",
              "2          1         0    1   2.00      1      2  151.5500         0\n",
              "3          1         0    0  30.00      1      2  151.5500         0\n",
              "4          1         0    1  25.00      1      2  151.5500         0\n",
              "...      ...       ...  ...    ...    ...    ...       ...       ...\n",
              "1304       3         0    1  14.50      1      0   14.4542         1\n",
              "1305       3         0    1  28.00      1      0   14.4542         1\n",
              "1306       3         0    0  26.50      0      0    7.2250         1\n",
              "1307       3         0    0  27.00      0      0    7.2250         1\n",
              "1308       3         0    0  29.00      0      0    7.8750         0\n",
              "\n",
              "[1309 rows x 8 columns]"
            ]
          },
          "metadata": {
            "tags": []
          },
          "execution_count": 16
        }
      ]
    },
    {
      "cell_type": "markdown",
      "metadata": {
        "id": "3GIdZUcX5bM9"
      },
      "source": [
        "#Separate the outcome we are trying to predict from the dataset"
      ]
    },
    {
      "cell_type": "code",
      "metadata": {
        "id": "4T1FpcARucP2"
      },
      "source": [
        "X = titanic_df.drop(['survived'], axis=1)\n",
        "y = titanic_df[['survived']]"
      ],
      "execution_count": 17,
      "outputs": []
    },
    {
      "cell_type": "markdown",
      "metadata": {
        "id": "eAaTseTO5l6B"
      },
      "source": [
        "#Split the dataset into test and training data"
      ]
    },
    {
      "cell_type": "code",
      "metadata": {
        "id": "5o6_mdMs19ci"
      },
      "source": [
        "from sklearn.model_selection import train_test_split\n",
        "\n",
        "X_train, X_test, y_train, y_test = train_test_split(X, y, test_size=0.33, random_state=5)"
      ],
      "execution_count": 18,
      "outputs": []
    },
    {
      "cell_type": "markdown",
      "metadata": {
        "id": "id7TKusK5pyQ"
      },
      "source": [
        "#Choose a classification model. Fit the training data in the model. Then make predictions with the test data and check its accuracy score."
      ]
    },
    {
      "cell_type": "code",
      "metadata": {
        "id": "kcDSWDdq_RPQ",
        "colab": {
          "base_uri": "https://localhost:8080/"
        },
        "outputId": "f0192a8a-94b3-4c95-ac8d-7d72b673aabe"
      },
      "source": [
        "from sklearn.ensemble import RandomForestClassifier\n",
        "from sklearn.metrics import accuracy_score\n",
        "\n",
        "clf = RandomForestClassifier(bootstrap=True, class_weight=None, criterion='entropy',\n",
        "                       max_depth=10, max_features='sqrt', max_leaf_nodes=None,\n",
        "                       min_impurity_decrease=0.0, min_impurity_split=None,\n",
        "                       min_samples_leaf=5, min_samples_split=2,\n",
        "                       min_weight_fraction_leaf=0.0, n_estimators=6,\n",
        "                       n_jobs=None, oob_score=False, random_state=14,\n",
        "                       verbose=0, warm_start=False)\n",
        "\n",
        "clf.fit(X_train,np.ravel(y_train))\n",
        "\n",
        "y_pred = clf.predict(X_test)\n",
        "\n",
        "print(\"The accuracy score is \",accuracy_score(y_test, y_pred)*100,\"%\")"
      ],
      "execution_count": 29,
      "outputs": [
        {
          "output_type": "stream",
          "text": [
            "The accuracy score is  79.62962962962963 %\n"
          ],
          "name": "stdout"
        }
      ]
    },
    {
      "cell_type": "markdown",
      "metadata": {
        "id": "LoNdsKpSS7w4"
      },
      "source": [
        "#Save the model using the pickle package"
      ]
    },
    {
      "cell_type": "markdown",
      "metadata": {
        "id": "N0lY6sqhX3bJ"
      },
      "source": [
        "> Run the following command to use you Google Drive for storage purpose. It gives you a link and prompts you for a password. You can click on the link and use your google account to generate a unique password for the session and paste it in the space allocated to enter the password."
      ]
    },
    {
      "cell_type": "code",
      "metadata": {
        "colab": {
          "base_uri": "https://localhost:8080/"
        },
        "id": "5O_hDArFXpcf",
        "outputId": "1eb05bd3-6827-46a6-aa68-d1b4757b98d7"
      },
      "source": [
        "from google.colab import drive\n",
        "drive.mount('/content/gdrive',force_remount=True)"
      ],
      "execution_count": 31,
      "outputs": [
        {
          "output_type": "stream",
          "text": [
            "Mounted at /content/gdrive\n"
          ],
          "name": "stdout"
        }
      ]
    },
    {
      "cell_type": "markdown",
      "metadata": {
        "id": "mIMi6Dccb9HY"
      },
      "source": [
        "#Save the model to be used later."
      ]
    },
    {
      "cell_type": "code",
      "metadata": {
        "id": "wZafVKXti4RU"
      },
      "source": [
        "import pickle\n",
        "\n",
        "saved_model = pickle.dumps(clf)\n",
        "\n",
        "\n",
        "filename = '/content/gdrive/MyDrive/finalized_model.sav'\n",
        "pickle.dump(saved_model, open(filename, 'wb'))\n",
        " "
      ],
      "execution_count": 32,
      "outputs": []
    },
    {
      "cell_type": "markdown",
      "metadata": {
        "id": "euTqd9UgcCpP"
      },
      "source": [
        "#Use the model saved earlier to predict. \n",
        "\n",
        "1. Open and load the model\n",
        "2. Pass the parameters to predict."
      ]
    },
    {
      "cell_type": "code",
      "metadata": {
        "colab": {
          "base_uri": "https://localhost:8080/"
        },
        "id": "wxF0U9hdlhD1",
        "outputId": "93a9e03f-9681-4c39-d7d7-e8c451535d26"
      },
      "source": [
        "with open('/content/gdrive/MyDrive/finalized_model.sav', 'rb') as file:  \n",
        "    loaded_model = pickle.load(file)\n",
        "\n",
        "clf = pickle.loads(loaded_model)\n",
        "\n",
        "class_travelled = 2\n",
        "# Gender 1 is for Female and 0 for male\n",
        "gender = 1 \n",
        "age = 29\n",
        "siblingOrSpouse=0\n",
        "parentOrChild=0\n",
        "fare = 211\n",
        "# Port of Embarkment  0 - South Hampton, 1 - Cherbourgh and  2 - Queenstown\n",
        "embark = 1\n",
        "\n",
        "# # Use the loaded pickled model to make predictions\n",
        "print(clf.predict([[class_travelled,gender,age,siblingOrSpouse,parentOrChild, fare,embark]]))"
      ],
      "execution_count": 40,
      "outputs": [
        {
          "output_type": "stream",
          "text": [
            "[1]\n"
          ],
          "name": "stdout"
        }
      ]
    },
    {
      "cell_type": "markdown",
      "metadata": {
        "id": "Vc48aDEubl9W"
      },
      "source": [
        "The output 1 implies the passenger whose details were passed to the predictor is predicted to have survived. The output 0 implies the passenger did not survive. The output is returned as an array. Try passing more than one passenger details, and see what the output is.\n",
        "\n",
        "<details><summary>Click here for the code to pass more than one passenger details</summary>\n",
        "\n",
        "```python\n",
        "# # Use the loaded pickled model to make predictions\n",
        "print(clf.predict([[2,0,25,0,0, 100,1],\n",
        "                   [2,1,25,0,0, 150,0],\n",
        "                   [1,1,25,0,0, 213,2]]))\n",
        ")\n",
        "```\n",
        "EVERY ARRAY HERE PERTAINS TO ONE PASSANGER. CAN YOU GUESS WHAT EACH OF THESE VALUES PASSED MEAN?\n",
        "</details>"
      ]
    },
    {
      "cell_type": "code",
      "metadata": {
        "colab": {
          "base_uri": "https://localhost:8080/"
        },
        "id": "sGgEm9Lgcpnu",
        "outputId": "828cc39d-6232-407f-f9c6-7922e6e671e6"
      },
      "source": [
        "print(clf.predict([[2,0,25,0,0, 100,1],\n",
        "                   [2,1,25,0,0, 150,0],\n",
        "                   [1,1,25,0,0, 213,2]]))\n"
      ],
      "execution_count": 54,
      "outputs": [
        {
          "output_type": "stream",
          "text": [
            "[1 1 1]\n"
          ],
          "name": "stdout"
        }
      ]
    }
  ]
}